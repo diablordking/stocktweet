{
 "cells": [
  {
   "cell_type": "code",
   "execution_count": 1,
   "metadata": {
    "collapsed": false
   },
   "outputs": [
    {
     "ename": "ImportError",
     "evalue": "No module named stocktalk",
     "output_type": "error",
     "traceback": [
      "\u001b[1;31m---------------------------------------------------------------------------\u001b[0m",
      "\u001b[1;31mImportError\u001b[0m                               Traceback (most recent call last)",
      "\u001b[1;32m<ipython-input-1-76a8d24e4ed9>\u001b[0m in \u001b[0;36m<module>\u001b[1;34m()\u001b[0m\n\u001b[0;32m      5\u001b[0m \u001b[1;32mfrom\u001b[0m \u001b[0mbokeh\u001b[0m\u001b[1;33m.\u001b[0m\u001b[0mdriving\u001b[0m  \u001b[1;32mimport\u001b[0m \u001b[0mcount\u001b[0m\u001b[1;33m\u001b[0m\u001b[0m\n\u001b[0;32m      6\u001b[0m \u001b[1;32mimport\u001b[0m \u001b[0mrandom\u001b[0m\u001b[1;33m\u001b[0m\u001b[0m\n\u001b[1;32m----> 7\u001b[1;33m \u001b[1;32mfrom\u001b[0m \u001b[0mstocktalk\u001b[0m \u001b[1;32mimport\u001b[0m \u001b[0mstreaming\u001b[0m\u001b[1;33m\u001b[0m\u001b[0m\n\u001b[0m",
      "\u001b[1;31mImportError\u001b[0m: No module named stocktalk"
     ]
    }
   ],
   "source": [
    "from bokeh.client import push_session\n",
    "from bokeh.layouts  import row, column\n",
    "from bokeh.plotting import figure, curdoc\n",
    "from bokeh.models   import LinearAxis, Range1d\n",
    "from bokeh.driving  import count\n",
    "import random\n",
    "from stocktalk import streaming"
   ]
  },
  {
   "cell_type": "code",
   "execution_count": null,
   "metadata": {
    "collapsed": true
   },
   "outputs": [],
   "source": [
    "def readUpdates(filename):\n",
    "    updates = {}\n",
    "    with open(filename, 'r') as infile:\n",
    "        for line in infile:\n",
    "            l = line.strip('\\n').split(',')\n",
    "            volume = int(l[1])\n",
    "            sentiment = 0\n",
    "            if l[2] != 'N/A': sentiment = float(l[2])\n",
    "            updates[l[0]] = (volume, sentiment)\n",
    "    return updates"
   ]
  },
  {
   "cell_type": "code",
   "execution_count": null,
   "metadata": {
    "collapsed": true
   },
   "outputs": [],
   "source": [
    "def extrapolate(tweets):\n",
    "    return tweets*99+random.randint(0,99)"
   ]
  },
  {
   "cell_type": "code",
   "execution_count": null,
   "metadata": {
    "collapsed": true
   },
   "outputs": [],
   "source": [
    "\n",
    "def getPlot(title):\n",
    "    p = figure(plot_height=200, plot_width=400, min_border=40, toolbar_location=None, title=title)\n",
    "    p.background_fill_color = \"#515052\"          # Background color\n",
    "    p.title.text_color = \"#333138\"               # Title color\n",
    "    p.title.text_font = \"helvetica\"              # Title font\n",
    "    p.x_range.follow = \"end\"                     # Only show most recent window of data\n",
    "    p.x_range.follow_interval = 60               # Moving window size\n",
    "    p.xaxis.major_tick_line_color = None         # Turn off x-axis major ticks\n",
    "    p.xaxis.minor_tick_line_color = None         # Turn off x-axis minor ticks\n",
    "    p.yaxis.major_tick_line_color = None         # Turn off y-axis major ticks\n",
    "    p.yaxis.minor_tick_line_color = None         # Turn off y-axis minor ticks\n",
    "    p.xgrid.grid_line_alpha = 0                  # Hide X-Axis grid\n",
    "    p.ygrid.grid_line_alpha = 0                  # Hide Y-Axis grid\n",
    "    p.xaxis.major_label_text_color = \"#333138\"   # X-Axis color\n",
    "    p.yaxis.major_label_text_color = \"#333138\"   # Y-Axis color\n",
    "    p.extra_y_ranges = {\"sentiment\": Range1d(start=-1, end=1)}\n",
    "    p.add_layout(LinearAxis(y_range_name=\"sentiment\", major_tick_line_color = None, minor_tick_line_color = None), 'right')\n",
    "    return p"
   ]
  },
  {
   "cell_type": "code",
   "execution_count": null,
   "metadata": {
    "collapsed": true
   },
   "outputs": [],
   "source": [
    "\n",
    "def visualize(coins, seconds, path):\n",
    "    milliseconds = seconds*1000\n",
    "    \n",
    "    plots = []\n",
    "    for coin in coins:\n",
    "        plot = []\n",
    "        plot.append(getPlot(coin))\n",
    "        plot.append(plot[0].line([], [], line_alpha = 0.7, color=\"#C4D7F2\", line_width=2))\n",
    "        plot.append(plot[1].data_source)\n",
    "        plot.append(plot[0].line([], [], line_alpha = 0.5, color=\"#FFFFFA\", line_width=1, y_range_name=\"sentiment\"))\n",
    "        plot.append(plot[3].data_source)\n",
    "        plots.append(plot)\n",
    "\n",
    "    @count()\n",
    "    def update(t):\n",
    "\n",
    "        #Grab updates\n",
    "        updates = readUpdates('%supdates.txt' % path)\n",
    "\n",
    "        # Apply updates\n",
    "        for i, plot in enumerate(plots):\n",
    "            plot[2].data['x'].append(t) \n",
    "            plot[2].data['y'].append(extrapolate(updates[coins[i]][0]))\n",
    "            plot[4].data['x'].append(t) \n",
    "            plot[4].data['y'].append(updates[coins[i]][1])\n",
    "\n",
    "        # Trigger updates\n",
    "        for plot in plots:\n",
    "            plot[2].trigger('data', plot[2].data, plot[2].data)\n",
    "            plot[4].trigger('data', plot[4].data, plot[4].data)\n",
    "\n",
    "    rows = []\n",
    "    for i in range(0, len(plots), 2):\n",
    "        try: \n",
    "            rows.append(row(plots[i][0], plots[i+1][0]))\n",
    "        except IndexError:\n",
    "            rows.append(row(plots[i][0]))\n",
    "\n",
    "    root = column([r for r in rows])\n",
    "    curdoc().add_root(root)\n",
    "    curdoc().add_periodic_callback(update, milliseconds)"
   ]
  },
  {
   "cell_type": "code",
   "execution_count": null,
   "metadata": {
    "collapsed": true
   },
   "outputs": [],
   "source": [
    "\n",
    "\n",
    "API_KEY = 'Xm5UMC76zmgBAqh32WECmvT4n'\n",
    "API_SECRET = 'LJJFp2yIUhaoUp2CpviwhTWxGHLXhcUoOgjCjuBJCYbIlYq8uJ'\n",
    "ACCESS_TOKEN = '2866268703-MZYoOB5dNXG20PbThX2aIlydEZBW8WDX5ui3t5q'\n",
    "ACCESS_TOKEN_SECRET = 'R2oSZ5BPHuUi8qLE8gN6BuaWTeKOvODWJfQRUq1P037xl'\n",
    "credentials = [API_KEY, API_SECRET, ACCESS_TOKEN, ACCESS_TOKEN_SECRET]\n",
    "\n",
    "path = \"/home/diablo/Documents/Stocktalk/data/\"\n",
    "#python -m bokeh serve --show visualize.py\n",
    "# First element must be ticker/name, proceeding elements are extra queries\n",
    "TSLA = ['TSLA', 'Tesla']\n",
    "SNAP = ['SNAP', 'Snapchat']\n",
    "AAPL = ['AAPL', 'Apple']\n",
    "AMZN = ['AMZN', 'Amazon']\n",
    "\n",
    "# Variables\n",
    "tickers = [TSLA,SNAP,AAPL,AMZN]  # Used for identification purposes\n",
    "queries =  TSLA+SNAP+AAPL+AMZN   # Filters tweets containing one or more query\n",
    "refresh = 30                     # Process and log data every 30 seconds\n",
    "\n",
    "\n",
    "streaming(credentials, tickers, queries, refresh, path, \\\n",
    "realtime=True, logTracker=True, logTweets=True, logSentiment=True, debug=True)\n",
    "\n",
    "\n",
    "visualize(tickers, refresh, path)\n",
    "\n",
    "\n",
    "\n",
    "\n",
    "\n"
   ]
  }
 ],
 "metadata": {
  "kernelspec": {
   "display_name": "Python 2",
   "language": "python",
   "name": "python2"
  },
  "language_info": {
   "codemirror_mode": {
    "name": "ipython",
    "version": 2
   },
   "file_extension": ".py",
   "mimetype": "text/x-python",
   "name": "python",
   "nbconvert_exporter": "python",
   "pygments_lexer": "ipython2",
   "version": "2.7.12"
  }
 },
 "nbformat": 4,
 "nbformat_minor": 2
}
